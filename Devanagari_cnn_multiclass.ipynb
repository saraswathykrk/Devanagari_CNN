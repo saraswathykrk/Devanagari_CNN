{
 "cells": [
  {
   "cell_type": "markdown",
   "metadata": {},
   "source": [
    "# Classification of Hand-written images of Devanagari Script"
   ]
  },
  {
   "cell_type": "markdown",
   "metadata": {},
   "source": [
    "The below code is used to classify hand-written images of Devanagari script using tensorflow and CNN.\n",
    "\n",
    "The Devanagari character set consists of 46 characters - 36 alphabets and 10 numbers. We will first pre-process the images - normalizing, resizing etc., and then train a neural network(convolutional neural network) on the training samples. We will divide the training set into training and validation set and then perform the training."
   ]
  },
  {
   "cell_type": "markdown",
   "metadata": {},
   "source": [
    "## The Road Ahead\n",
    "\n",
    "### We break the notebook into separate steps.\n",
    "\n",
    "#### 1. Get the Data\n",
    "#### 2. Plotting the data - For understanding the dataset\n",
    "#### 3. Tensorflow Functions for CNN - Model Architecture and construction (Using different types of APIs - tf.nn, tf.layers, tf.contrib))\n",
    "#### 4. Training the model (how to feed and evaluate Tensorflow graph)\n",
    "#### 5. Prediction"
   ]
  },
  {
   "cell_type": "markdown",
   "metadata": {},
   "source": [
    "# 1. Get the data"
   ]
  },
  {
   "cell_type": "markdown",
   "metadata": {},
   "source": [
    "Run the following cell to download the [Devanagari-HandWritten Images Script](https://archive.ics.uci.edu/ml/datasets/Devanagari+Handwritten+Character+Dataset). This is an image database of Handwritten Devanagari characters. There are 46 classes of characters with 2000 examples each. The dataset is split into training set(85%) and testing set(15%)."
   ]
  },
  {
   "cell_type": "code",
   "execution_count": 1,
   "metadata": {},
   "outputs": [],
   "source": [
    "# Load the required libraries\n",
    "%matplotlib inline\n",
    "\n",
    "from datetime import timedelta\n",
    "from datetime import timedelta\n",
    "from os.path import isfile, isdir\n",
    "from sklearn.metrics import confusion_matrix\n",
    "from tqdm import tqdm \n",
    "from urllib.request import urlretrieve\n",
    "\n",
    "import numpy as np\n",
    "import numpy as np\n",
    "import numpy as np\n",
    "import pandas as pd\n",
    "import tensorflow as tf\n",
    "import matplotlib.pyplot as plt\n",
    "import os\n",
    "import cv2\n",
    "import math\n",
    "import pickle\n",
    "import dataset\n",
    "import random\n",
    "import time\n",
    "import zipfile\n",
    "\n",
    "#os.environ['KMP_DUPLICATE_LIB_OK']='True'"
   ]
  },
  {
   "cell_type": "markdown",
   "metadata": {},
   "source": [
    "## Download and extract the dataset"
   ]
  },
  {
   "cell_type": "code",
   "execution_count": 2,
   "metadata": {},
   "outputs": [
    {
     "name": "stdout",
     "output_type": "stream",
     "text": [
      "Dataset already downloaded\n",
      "Files are already extracted to the respective folder\n"
     ]
    }
   ],
   "source": [
    "images_folder_path = 'DevanagariHandwrittenCharacterDataset'\n",
    "path_to_zip_file = 'https://archive.ics.uci.edu/ml/machine-learning-databases/00389/DevanagariHandwrittenCharacterDataset.zip'\n",
    "zip_file_name = 'DevanagariHandwrittenCharacterDataset.zip'\n",
    "\n",
    "train_path = images_folder_path +'/' + images_folder_path+ '/Train' #'imagetest/Train'\n",
    "test_path = images_folder_path +'/' + images_folder_path+ '/Test'\n",
    "checkpoint_dir = \"models/\"\n",
    "\n",
    "class DownloadProgress(tqdm):\n",
    "    last_block = 0\n",
    "\n",
    "    def hook(self, block_num=1, block_size=1, total_size=None):\n",
    "        self.total = total_size\n",
    "        self.update((block_num - self.last_block) * block_size)\n",
    "        self.last_block = block_num\n",
    "\n",
    "#If dataset has not been downloaded in the folder, lets download it\n",
    "if not isfile(zip_file_name):\n",
    "    with DownloadProgress(unit='B', unit_scale=True, miniters=1, desc='Devanagari Dataset') as pbar:\n",
    "        urlretrieve(\n",
    "            path_to_zip_file,\n",
    "            zip_file_name,\n",
    "            pbar.hook)\n",
    "else:\n",
    "    print(\"Dataset already downloaded\")\n",
    "\n",
    "#If the dataset has been downloaded, lets extract it\n",
    "if not isdir(images_folder_path):\n",
    "    zip_ref = zipfile.ZipFile(zip_file_name, 'r')\n",
    "    zip_ref.extractall(images_folder_path)\n",
    "    print('Finished extracting the files')\n",
    "    zip_ref.close()\n",
    "else:\n",
    "    print(\"Files are already extracted to the respective folder\")"
   ]
  },
  {
   "cell_type": "markdown",
   "metadata": {},
   "source": [
    "## Hyperparameters"
   ]
  },
  {
   "cell_type": "code",
   "execution_count": 3,
   "metadata": {},
   "outputs": [],
   "source": [
    "# batch size\n",
    "batch_size = 32\n",
    "\n",
    "# validation split, 20% of the data will be used for validation\n",
    "validation_size = 0.2\n",
    "\n",
    "# how long to wait after validation loss stops improving before terminating training\n",
    "early_stopping = None  # use None if you don't want to implement early stopping\n",
    "\n",
    "# image dimensions \n",
    "img_size = 32\n",
    "\n",
    "# Number of color channels for the images: 1 channel for grey-scale.\n",
    "num_channels = 3\n",
    "\n",
    "# Size of image when flattened to a single dimension\n",
    "img_size_flat = img_size * img_size * num_channels\n",
    "\n",
    "# Tuple with height and width of images used to reshape arrays.\n",
    "img_shape = (img_size, img_size)\n",
    "\n",
    "##Network graph params\n",
    "#Conv layer 1\n",
    "filter_size_conv1 = 3 \n",
    "num_filters_conv1 = 32\n",
    "\n",
    "#Conv layer 2\n",
    "filter_size_conv2 = 3\n",
    "num_filters_conv2 = 32\n",
    "\n",
    "#Conv layer 3\n",
    "filter_size_conv3 = 3\n",
    "num_filters_conv3 = 64\n",
    "\n",
    "# Fully-connected layer\n",
    "fc_layer_size = 128   # Number of neurons in fully-connected layer.\n",
    "\n",
    "#Number of different classes\n",
    "classes = list(os.listdir(train_path))\n",
    "num_classes = len(classes)"
   ]
  },
  {
   "cell_type": "markdown",
   "metadata": {},
   "source": [
    "## Load the data"
   ]
  },
  {
   "cell_type": "code",
   "execution_count": 4,
   "metadata": {},
   "outputs": [
    {
     "name": "stdout",
     "output_type": "stream",
     "text": [
      "Loading training images\n",
      "Reading files from folder character_29_waw (Index: 0)\n",
      "Reading files from folder character_6_cha (Index: 1)\n",
      "Reading files from folder character_32_patalosaw (Index: 2)\n",
      "Reading files from folder character_7_chha (Index: 3)\n",
      "Reading files from folder character_4_gha (Index: 4)\n",
      "Reading files from folder character_24_bha (Index: 5)\n",
      "Reading files from folder character_12_thaa (Index: 6)\n",
      "Reading files from folder character_22_pha (Index: 7)\n",
      "Reading files from folder character_5_kna (Index: 8)\n",
      "Reading files from folder character_10_yna (Index: 9)\n",
      "Reading files from folder character_1_ka (Index: 10)\n",
      "Reading files from folder character_27_ra (Index: 11)\n",
      "Reading files from folder character_13_daa (Index: 12)\n",
      "Reading files from folder digit_2 (Index: 13)\n",
      "Reading files from folder character_21_pa (Index: 14)\n",
      "Reading files from folder digit_5 (Index: 15)\n",
      "Reading files from folder character_8_ja (Index: 16)\n",
      "Reading files from folder digit_4 (Index: 17)\n",
      "Reading files from folder digit_3 (Index: 18)\n",
      "Reading files from folder character_3_ga (Index: 19)\n",
      "Reading files from folder character_18_da (Index: 20)\n",
      "Reading files from folder character_28_la (Index: 21)\n",
      "Reading files from folder character_19_dha (Index: 22)\n",
      "Reading files from folder character_23_ba (Index: 23)\n",
      "Reading files from folder character_33_ha (Index: 24)\n",
      "Reading files from folder character_2_kha (Index: 25)\n",
      "Reading files from folder character_34_chhya (Index: 26)\n",
      "Reading files from folder character_9_jha (Index: 27)\n",
      "Reading files from folder character_11_taamatar (Index: 28)\n",
      "Reading files from folder character_25_ma (Index: 29)\n",
      "Reading files from folder character_30_motosaw (Index: 30)\n",
      "Reading files from folder character_17_tha (Index: 31)\n",
      "Reading files from folder character_35_tra (Index: 32)\n",
      "Reading files from folder character_36_gya (Index: 33)\n",
      "Reading files from folder character_31_petchiryakha (Index: 34)\n",
      "Reading files from folder character_15_adna (Index: 35)\n",
      "Reading files from folder character_14_dhaa (Index: 36)\n",
      "Reading files from folder character_16_tabala (Index: 37)\n",
      "Reading files from folder digit_6 (Index: 38)\n",
      "Reading files from folder digit_1 (Index: 39)\n",
      "Reading files from folder digit_8 (Index: 40)\n",
      "Reading files from folder character_20_na (Index: 41)\n",
      "Reading files from folder character_26_yaw (Index: 42)\n",
      "Reading files from folder digit_9 (Index: 43)\n",
      "Reading files from folder digit_0 (Index: 44)\n",
      "Reading files from folder digit_7 (Index: 45)\n",
      "Finished reading train data\n"
     ]
    }
   ],
   "source": [
    "# Loading the train data into memory using openCV and use that during training\n",
    "data = dataset.read_train_sets(train_path, img_size, classes, validation_size=validation_size)"
   ]
  },
  {
   "cell_type": "code",
   "execution_count": 5,
   "metadata": {},
   "outputs": [
    {
     "name": "stdout",
     "output_type": "stream",
     "text": [
      "Loading testing images\n",
      "Reading files from folder character_29_waw (Index: 0)\n",
      "Reading files from folder character_6_cha (Index: 1)\n",
      "Reading files from folder character_32_patalosaw (Index: 2)\n",
      "Reading files from folder character_7_chha (Index: 3)\n",
      "Reading files from folder character_4_gha (Index: 4)\n",
      "Reading files from folder character_24_bha (Index: 5)\n",
      "Reading files from folder character_12_thaa (Index: 6)\n",
      "Reading files from folder character_22_pha (Index: 7)\n",
      "Reading files from folder character_5_kna (Index: 8)\n",
      "Reading files from folder character_10_yna (Index: 9)\n",
      "Reading files from folder character_1_ka (Index: 10)\n",
      "Reading files from folder character_27_ra (Index: 11)\n",
      "Reading files from folder character_13_daa (Index: 12)\n",
      "Reading files from folder digit_2 (Index: 13)\n",
      "Reading files from folder character_21_pa (Index: 14)\n",
      "Reading files from folder digit_5 (Index: 15)\n",
      "Reading files from folder character_8_ja (Index: 16)\n",
      "Reading files from folder digit_4 (Index: 17)\n",
      "Reading files from folder digit_3 (Index: 18)\n",
      "Reading files from folder character_3_ga (Index: 19)\n",
      "Reading files from folder character_18_da (Index: 20)\n",
      "Reading files from folder character_28_la (Index: 21)\n",
      "Reading files from folder character_19_dha (Index: 22)\n",
      "Reading files from folder character_23_ba (Index: 23)\n",
      "Reading files from folder character_33_ha (Index: 24)\n",
      "Reading files from folder character_2_kha (Index: 25)\n",
      "Reading files from folder character_34_chhya (Index: 26)\n",
      "Reading files from folder character_9_jha (Index: 27)\n",
      "Reading files from folder character_11_taamatar (Index: 28)\n",
      "Reading files from folder character_25_ma (Index: 29)\n",
      "Reading files from folder character_30_motosaw (Index: 30)\n",
      "Reading files from folder character_17_tha (Index: 31)\n",
      "Reading files from folder character_35_tra (Index: 32)\n",
      "Reading files from folder character_36_gya (Index: 33)\n",
      "Reading files from folder character_31_petchiryakha (Index: 34)\n",
      "Reading files from folder character_15_adna (Index: 35)\n",
      "Reading files from folder character_14_dhaa (Index: 36)\n",
      "Reading files from folder character_16_tabala (Index: 37)\n",
      "Reading files from folder digit_6 (Index: 38)\n",
      "Reading files from folder digit_1 (Index: 39)\n",
      "Reading files from folder digit_8 (Index: 40)\n",
      "Reading files from folder character_20_na (Index: 41)\n",
      "Reading files from folder character_26_yaw (Index: 42)\n",
      "Reading files from folder digit_9 (Index: 43)\n",
      "Reading files from folder digit_0 (Index: 44)\n",
      "Reading files from folder digit_7 (Index: 45)\n",
      "Finished loading test data\n",
      "Finished loading testing data\n"
     ]
    }
   ],
   "source": [
    "#Load the test files\n",
    "test_images, test_ids = dataset.read_test_set(test_path, img_size, classes)\n",
    "print(\"Finished loading testing data\")"
   ]
  },
  {
   "cell_type": "code",
   "execution_count": 6,
   "metadata": {},
   "outputs": [
    {
     "name": "stdout",
     "output_type": "stream",
     "text": [
      "==============================================================\n",
      "Number of files in Training-set       ::\t62560\n",
      "Number of files in Validation-set     ::\t15640\n",
      "Number of files in Test-set           ::\t13800\n",
      "==============================================================\n"
     ]
    }
   ],
   "source": [
    "print(\"==============================================================\")\n",
    "print(\"Number of files in Training-set       ::\\t{}\".format(len(data.train.labels)))\n",
    "print(\"Number of files in Validation-set     ::\\t{}\".format(len(data.valid.labels)))\n",
    "print(\"Number of files in Test-set           ::\\t{}\".format(len(test_images)))\n",
    "print(\"==============================================================\")"
   ]
  },
  {
   "cell_type": "markdown",
   "metadata": {},
   "source": [
    "# 2. Plotting the data"
   ]
  },
  {
   "cell_type": "code",
   "execution_count": 7,
   "metadata": {},
   "outputs": [],
   "source": [
    "def plot_images(images, cls_true, cls_pred=None):\n",
    "    if len(images) == 0:\n",
    "        print(\"no images to show\")\n",
    "        return \n",
    "    else:\n",
    "        random_indices = random.sample(range(len(images)), min(len(images), 9))\n",
    "        \n",
    "    images, cls_true  = zip(*[(images[i], cls_true[i]) for i in random_indices])\n",
    "    \n",
    "    # Create figure with 3x3 sub-plots.\n",
    "    fig, axes = plt.subplots(3, 3)\n",
    "    fig.subplots_adjust(hspace=0.8, wspace=1.8)\n",
    "\n",
    "    for i, ax in enumerate(axes.flat):\n",
    "        # Plot image.\n",
    "        ax.imshow(images[i].reshape(img_size, img_size, num_channels))\n",
    "\n",
    "        # Show true and predicted classes.\n",
    "        if cls_pred is None:\n",
    "            xlabel = \"True: {0}\".format(cls_true[i])\n",
    "        else:\n",
    "            xlabel = \"True: {0}, \\nPred: {1}\".format(cls_true[i], cls_pred[i])\n",
    "\n",
    "        # Show the classes as the label on the x-axis.\n",
    "        ax.set_xlabel(xlabel, horizontalalignment='center')\n",
    "        \n",
    "        # Remove ticks from the plot.\n",
    "        ax.set_xticks([])\n",
    "        ax.set_yticks([])\n",
    "    \n",
    "    # Ensure the plot is shown correctly with multiple plots\n",
    "    # in a single Notebook cell.\n",
    "    plt.show()"
   ]
  },
  {
   "cell_type": "markdown",
   "metadata": {},
   "source": [
    "## Plotting a few images"
   ]
  },
  {
   "cell_type": "code",
   "execution_count": 8,
   "metadata": {},
   "outputs": [
    {
     "data": {
      "image/png": "[encoded data removed]",
      "text/plain": [
       "<Figure size 432x288 with 9 Axes>"
      ]
     },
     "metadata": {},
     "output_type": "display_data"
    }
   ],
   "source": [
    "#Get some random images and their labels from the train set.\n",
    "images, cls_true  = data.train.images, data.train.cls\n",
    "\n",
    "%matplotlib inline\n",
    "#Plot the images and labels using our helper-function above.\n",
    "plot_images(images=images, cls_true=cls_true)"
   ]
  },
  {
   "cell_type": "code",
   "execution_count": 9,
   "metadata": {},
   "outputs": [],
   "source": [
    "#Adding Seed so that random initialization is consistent\n",
    "from numpy.random import seed\n",
    "seed(1)\n",
    "from tensorflow import set_random_seed\n",
    "set_random_seed(2)"
   ]
  },
  {
   "cell_type": "markdown",
   "metadata": {},
   "source": [
    "# 3. Tensorflow Functions for CNN"
   ]
  },
  {
   "cell_type": "code",
   "execution_count": 10,
   "metadata": {},
   "outputs": [],
   "source": [
    "def create_weights(shape):\n",
    "    return tf.Variable(tf.truncated_normal(shape, stddev=0.05))"
   ]
  },
  {
   "cell_type": "code",
   "execution_count": 11,
   "metadata": {},
   "outputs": [],
   "source": [
    "def create_biases(size):\n",
    "    return tf.Variable(tf.constant(0.05, shape=[size]))"
   ]
  },
  {
   "cell_type": "markdown",
   "metadata": {},
   "source": [
    "### Convolutional layer"
   ]
  },
  {
   "cell_type": "code",
   "execution_count": 12,
   "metadata": {},
   "outputs": [],
   "source": [
    "def create_convolutional_layer(input,              # The previous layer.\n",
    "                               num_input_channels, # Num. channels in prev. layer.\n",
    "                               conv_filter_size,   # Width and height of each filter.\n",
    "                               num_filters,        # Number of filters.\n",
    "                               use_pooling=True):  # Use 2x2 max-pooling.\n",
    "    \n",
    "    ## Define the weights that will be trained using create_weights function.\n",
    "    weights = create_weights(shape=[conv_filter_size, conv_filter_size, num_input_channels, num_filters])\n",
    "    \n",
    "    ## Create biases using the create_biases function which are also trained.\n",
    "    biases = create_biases(num_filters)\n",
    "\n",
    "    ## Creating the convolutional layer\n",
    "    layer = tf.nn.conv2d(input=input,\n",
    "                         filter=weights,\n",
    "                         strides=[1, 1, 1, 1],\n",
    "                         padding='SAME')\n",
    "\n",
    "    layer += biases\n",
    "\n",
    "    ## We shall be using max-pooling.  \n",
    "    layer = tf.nn.max_pool(value=layer,\n",
    "                           ksize=[1, 2, 2, 1],\n",
    "                           strides=[1, 2, 2, 1],\n",
    "                           padding='SAME')\n",
    "    \n",
    "    ## Output of pooling is fed to Relu which is the activation function for us.\n",
    "    layer = tf.nn.relu(layer)\n",
    "\n",
    "    # We return both the resulting layer and the filter-weights because we will plot the weights later.\n",
    "    return layer, weights"
   ]
  },
  {
   "cell_type": "markdown",
   "metadata": {},
   "source": [
    "### Flattened Layer"
   ]
  },
  {
   "cell_type": "code",
   "execution_count": 13,
   "metadata": {},
   "outputs": [],
   "source": [
    "def create_flatten_layer(layer):\n",
    "    \n",
    "    #Getting the shape of the layer from the previous layer.\n",
    "    layer_shape = layer.get_shape()\n",
    "\n",
    "    #Number of features will be img_height * img_width* num_channels.\n",
    "    num_features = layer_shape[1:4].num_elements()\n",
    "\n",
    "    #Flatten the layer so we shall have to reshape to num_features\n",
    "    flattened_layer = tf.reshape(layer, [-1, num_features])\n",
    "\n",
    "    # Return both the flattened layer and the number of features.\n",
    "    return flattened_layer, num_features"
   ]
  },
  {
   "cell_type": "markdown",
   "metadata": {},
   "source": [
    "### Fully Connected Layer"
   ]
  },
  {
   "cell_type": "code",
   "execution_count": 14,
   "metadata": {},
   "outputs": [],
   "source": [
    "def create_fc_layer(input,          \n",
    "                    num_inputs,    \n",
    "                    num_outputs,\n",
    "                    use_relu=True):\n",
    "    \n",
    "    #Let's define trainable weights and biases.\n",
    "    weights = create_weights(shape=[num_inputs, num_outputs])\n",
    "    biases = create_biases(num_outputs)\n",
    "\n",
    "    #Calculate the layer as the matrix multiplication of the input and weights, \n",
    "    #and add the bias-values, using matmul function\n",
    "    layer = tf.matmul(input, weights) + biases\n",
    "    \n",
    "    #Using RELU\n",
    "    if use_relu:\n",
    "        layer = tf.nn.relu(layer)\n",
    "\n",
    "    return layer"
   ]
  },
  {
   "cell_type": "markdown",
   "metadata": {},
   "source": [
    "# 4. Training the model"
   ]
  },
  {
   "cell_type": "code",
   "execution_count": 15,
   "metadata": {},
   "outputs": [
    {
     "name": "stdout",
     "output_type": "stream",
     "text": [
      "WARNING:tensorflow:From <ipython-input-15-45b80febbf92>:9: calling argmax (from tensorflow.python.ops.math_ops) with dimension is deprecated and will be removed in a future version.\n",
      "Instructions for updating:\n",
      "Use the `axis` argument instead\n",
      "WARNING:tensorflow:From <ipython-input-15-45b80febbf92>:54: softmax_cross_entropy_with_logits (from tensorflow.python.ops.nn_ops) is deprecated and will be removed in a future version.\n",
      "Instructions for updating:\n",
      "\n",
      "Future major versions of TensorFlow will allow gradients to flow\n",
      "into the labels input on backprop by default.\n",
      "\n",
      "See `tf.nn.softmax_cross_entropy_with_logits_v2`.\n",
      "\n"
     ]
    }
   ],
   "source": [
    "#Placeholder variables\n",
    "x = tf.placeholder(tf.float32, shape=[None, img_size,img_size,num_channels], name='x')\n",
    "\n",
    "#x = tf.placeholder(tf.float32, shape=[None, img_size_flat], name='x')\n",
    "#x_image = tf.reshape(x, [-1, img_size, img_size, num_channels])\n",
    "\n",
    "#labels\n",
    "y_true = tf.placeholder(tf.float32, shape=[None, num_classes], name='y_true')\n",
    "y_true_cls = tf.argmax(y_true, dimension=1)\n",
    "\n",
    "#Conv layer 1\n",
    "layer_conv1, weights_conv1 = create_convolutional_layer(input=x,\n",
    "                                                        num_input_channels=num_channels,\n",
    "                                                        conv_filter_size=filter_size_conv1,\n",
    "                                                        num_filters=num_filters_conv1,\n",
    "                                                        use_pooling=True)\n",
    "\n",
    "#Conv layer 2\n",
    "layer_conv2, weights_conv2 = create_convolutional_layer(input=layer_conv1,\n",
    "                                                        num_input_channels=num_filters_conv1,\n",
    "                                                        conv_filter_size=filter_size_conv2,\n",
    "                                                        num_filters=num_filters_conv2,\n",
    "                                                        use_pooling=True)\n",
    "\n",
    "#Conv layer 3\n",
    "layer_conv3, weights_conv3 = create_convolutional_layer(input=layer_conv2,\n",
    "                                                        num_input_channels=num_filters_conv2,\n",
    "                                                        conv_filter_size=filter_size_conv3,\n",
    "                                                        num_filters=num_filters_conv3,\n",
    "                                                        use_pooling=True)\n",
    "          \n",
    "#Flatten Layer\n",
    "layer_flat, num_features = create_flatten_layer(layer_conv3)\n",
    "\n",
    "#FC Layer 1\n",
    "layer_fc1 = create_fc_layer(input=layer_flat,\n",
    "                            num_inputs=num_features, #layer_flat.get_shape()[1:4].num_elements(),\n",
    "                            num_outputs=fc_layer_size,\n",
    "                            use_relu=True)\n",
    "\n",
    "#FC Layer 2\n",
    "layer_fc2 = create_fc_layer(input=layer_fc1,\n",
    "                            num_inputs=fc_layer_size,\n",
    "                            num_outputs=num_classes,\n",
    "                            use_relu=False) \n",
    "\n",
    "#Predicted Class\n",
    "y_pred = tf.nn.softmax(layer_fc2,name='y_pred')\n",
    "y_pred_cls = tf.argmax(y_pred, dimension=1)\n",
    "\n",
    "\n",
    "#Cost Function and optimizer\n",
    "cross_entropy = tf.nn.softmax_cross_entropy_with_logits(logits=layer_fc2,\n",
    "                                                        labels=y_true)\n",
    "\n",
    "cost = tf.reduce_mean(cross_entropy)\n",
    "optimizer = tf.train.AdamOptimizer(learning_rate=1e-4).minimize(cost)\n",
    "\n",
    "#Performance measures\n",
    "correct_prediction = tf.equal(y_pred_cls, y_true_cls)\n",
    "accuracy = tf.reduce_mean(tf.cast(correct_prediction, tf.float32))"
   ]
  },
  {
   "cell_type": "markdown",
   "metadata": {},
   "source": [
    "## Tensorflow Run"
   ]
  },
  {
   "cell_type": "markdown",
   "metadata": {},
   "source": [
    "### Create the TF session"
   ]
  },
  {
   "cell_type": "code",
   "execution_count": 50,
   "metadata": {},
   "outputs": [],
   "source": [
    "session = tf.Session()"
   ]
  },
  {
   "cell_type": "markdown",
   "metadata": {},
   "source": [
    "### Initialize the variables"
   ]
  },
  {
   "cell_type": "code",
   "execution_count": 17,
   "metadata": {},
   "outputs": [],
   "source": [
    "session.run(tf.global_variables_initializer()) "
   ]
  },
  {
   "cell_type": "markdown",
   "metadata": {},
   "source": [
    "### Helper-function to perform iterations"
   ]
  },
  {
   "cell_type": "code",
   "execution_count": 18,
   "metadata": {},
   "outputs": [],
   "source": [
    "def show_progress(epoch, feed_dict_train, feed_dict_validate, val_loss):\n",
    "    acc = session.run(accuracy, feed_dict=feed_dict_train)\n",
    "    val_acc = session.run(accuracy, feed_dict=feed_dict_validate)\n",
    "    msg = \"Training Epoch {0} --> Training Accuracy: {1:>6.1%}, Validation Accuracy: {2:>6.1%},  Validation Loss: {3:.3f}\"\n",
    "    print(msg.format(epoch + 1, acc, val_acc, val_loss))"
   ]
  },
  {
   "cell_type": "code",
   "execution_count": 19,
   "metadata": {},
   "outputs": [],
   "source": [
    "saver = tf.train.Saver()\n",
    "\n",
    "#Counter for total number of iterations performed so far.\n",
    "total_iterations = 0\n",
    "\n",
    "def train(num_iterations):\n",
    "    #Ensure we are updating the global variable rather than a local copy.\n",
    "    global total_iterations\n",
    "    \n",
    "    #Start-time used for printing time-usage below.\n",
    "    start_time = time.time()\n",
    "    \n",
    "    best_val_loss = float(\"inf\")\n",
    "    patience = 0\n",
    "    \n",
    "    for i in range(total_iterations,\n",
    "                   total_iterations + num_iterations):\n",
    "        \n",
    "        \n",
    "        #Get a batch of training examples - x_batch now holds a batch of images and y_true_batch are the \n",
    "        #true labels for those images.\n",
    "        x_batch, y_true_batch, _, cls_batch = data.train.next_batch(batch_size)\n",
    "        x_valid_batch, y_valid_batch, _, valid_cls_batch = data.valid.next_batch(batch_size)\n",
    "\n",
    "        #Put the batch into a dict with the proper names for the placeholder variables in the TensorFlow graph.\n",
    "        feed_dict_train =  {x:      x_batch,\n",
    "                            y_true: y_true_batch}\n",
    "        feed_dict_validatn = {x:      x_valid_batch,\n",
    "                              y_true: y_valid_batch}\n",
    "\n",
    "        #Run the optimizer using this training data batch\n",
    "        session.run(optimizer, feed_dict=feed_dict_train)\n",
    "        \n",
    "        \n",
    "        #Print status at end of each epoch (defined as full pass through training dataset).\n",
    "        if i % int(data.train.num_examples/batch_size) == 0:\n",
    "            val_loss = session.run(cost, feed_dict=feed_dict_validatn)\n",
    "            epoch = int(i / int(data.train.num_examples/batch_size))    \n",
    "            \n",
    "            show_progress(epoch, feed_dict_train, feed_dict_validatn, val_loss)\n",
    "            saver.save(session, './devanagari-model')\n",
    "            \n",
    "            if early_stopping:    \n",
    "                if val_loss < best_val_loss:\n",
    "                    best_val_loss = val_loss\n",
    "                    patience = 0\n",
    "                else:\n",
    "                    patience += 1\n",
    "\n",
    "                if patience == early_stopping:\n",
    "                    break\n",
    "\n",
    "    #Update the total number of iterations performed.\n",
    "    total_iterations += num_iterations\n",
    "    \n",
    "    #Ending time.\n",
    "    end_time = time.time()\n",
    "\n",
    "    #Difference between start and end-times.\n",
    "    time_dif = end_time - start_time\n",
    "\n",
    "    #Print the time-taken.\n",
    "    print(\"Time elapsed: \" + str(timedelta(seconds=int(round(time_dif)))))\n",
    "    \n",
    "#train(num_iterations=3000)"
   ]
  },
  {
   "cell_type": "markdown",
   "metadata": {},
   "source": [
    "### Plot errors"
   ]
  },
  {
   "cell_type": "code",
   "execution_count": 20,
   "metadata": {},
   "outputs": [],
   "source": [
    "def plot_example_errors(cls_pred, correct):\n",
    "    #cls_pred is an array of the predicted class-number for all images in the test-set.\n",
    "    #correct is a boolean array whether the predicted class is equal to the true class for each image in the test-set.\n",
    "\n",
    "    #Negate the boolean array.\n",
    "    incorrect = (correct == False)\n",
    "    \n",
    "    #Get the images from the test-set that have been incorrectly classified.\n",
    "    images = data.valid.images[incorrect]\n",
    "    \n",
    "    #Get the predicted classes for those images.\n",
    "    cls_pred = cls_pred[incorrect]\n",
    "\n",
    "    #Get the true classes for those images.\n",
    "    cls_true = data.valid.cls[incorrect]\n",
    "    \n",
    "    #Plot the first 9 images.\n",
    "    plot_images(images=images[0:9],\n",
    "                cls_true=cls_true[0:9],\n",
    "                cls_pred=cls_pred[0:9])"
   ]
  },
  {
   "cell_type": "markdown",
   "metadata": {},
   "source": [
    "### Plot confusion matrix"
   ]
  },
  {
   "cell_type": "code",
   "execution_count": 21,
   "metadata": {},
   "outputs": [],
   "source": [
    "def plot_confusion_matrix(cls_pred):\n",
    "    #Get the true classifications for the test-set.\n",
    "    cls_true = data.valid.cls\n",
    "    \n",
    "    #Get the confusion matrix using sklearn.\n",
    "    cm = confusion_matrix(y_true=cls_true,\n",
    "                          y_pred=cls_pred)\n",
    "\n",
    "    #Print the confusion matrix as text.\n",
    "    print(cm)\n",
    "\n",
    "    #Plot the confusion matrix as an image.\n",
    "    plt.matshow(cm)\n",
    "\n",
    "    #Make various adjustments to the plot.\n",
    "    plt.colorbar()\n",
    "    tick_marks = np.arange(num_classes)\n",
    "    plt.xticks(tick_marks, range(num_classes))\n",
    "    plt.yticks(tick_marks, range(num_classes))\n",
    "    plt.xlabel('Predicted')\n",
    "    plt.ylabel('True')\n",
    "\n",
    "    #Ensure the plot is shown correctly with multiple plots in a single Notebook cell.\n",
    "    plt.show()"
   ]
  },
  {
   "cell_type": "code",
   "execution_count": 22,
   "metadata": {},
   "outputs": [],
   "source": [
    "def print_validation_accuracy(show_example_errors=False,\n",
    "                              show_confusion_matrix=False):\n",
    "\n",
    "    #Number of images in the test-set.\n",
    "    num_test = len(data.valid.images)\n",
    "\n",
    "    #Allocate an array for the predicted classes which will be calculated in batches and filled into this array.\n",
    "    cls_pred = np.zeros(shape=num_test, dtype=np.int)\n",
    "\n",
    "    #Now calculate the predicted classes for the batches. We will just iterate through all the batches.\n",
    "    i = 0\n",
    "\n",
    "    while i < num_test:\n",
    "        j = min(i + batch_size, num_test)\n",
    "\n",
    "        images = data.valid.images[i:j, :] \n",
    "        labels = data.valid.labels[i:j, :]\n",
    "        feed_dict = {x: images,\n",
    "                     y_true: labels}\n",
    "\n",
    "        cls_pred[i:j] = session.run(y_pred_cls, feed_dict=feed_dict)\n",
    "        i = j\n",
    "\n",
    "    cls_true = np.array(data.valid.cls)\n",
    "    cls_pred = np.array([classes[x] for x in cls_pred]) \n",
    "\n",
    "    #Create a boolean array whether each image is correctly classified.\n",
    "    correct = (cls_true == cls_pred)\n",
    "\n",
    "    #Calculate the number of correctly classified images. When summing a boolean array, False means 0 and True means 1.\n",
    "    correct_sum = correct.sum()\n",
    "\n",
    "    #Classification accuracy is the number of correctly classified images divided by the total number of images in the test-set.\n",
    "    acc = float(correct_sum) / num_test\n",
    "\n",
    "    #Print the accuracy.\n",
    "    msg = \"Accuracy on Test-Set: {0:.1%} ({1} / {2})\"\n",
    "    print(msg.format(acc, correct_sum, num_test))\n",
    "\n",
    "    #Plot some examples of mis-classifications, if desired.\n",
    "    if show_example_errors:\n",
    "        print(\"Example errors:\")\n",
    "        plot_example_errors(cls_pred=cls_pred, correct=correct)\n",
    "\n",
    "    #Plot the confusion matrix, if desired.\n",
    "    if show_confusion_matrix:\n",
    "        print(\"Confusion Matrix:\")\n",
    "        plot_confusion_matrix(cls_pred=cls_pred)"
   ]
  },
  {
   "cell_type": "code",
   "execution_count": 23,
   "metadata": {},
   "outputs": [
    {
     "name": "stdout",
     "output_type": "stream",
     "text": [
      "Training Epoch 1 --> Training Accuracy:   9.4%, Validation Accuracy:   0.0%,  Validation Loss: 3.817\n",
      "Time elapsed: 0:00:02\n"
     ]
    }
   ],
   "source": [
    "train(num_iterations=1)"
   ]
  },
  {
   "cell_type": "code",
   "execution_count": 24,
   "metadata": {},
   "outputs": [
    {
     "name": "stdout",
     "output_type": "stream",
     "text": [
      "Accuracy on Test-Set: 2.9% (453 / 15640)\n"
     ]
    }
   ],
   "source": [
    "print_validation_accuracy()"
   ]
  },
  {
   "cell_type": "code",
   "execution_count": 25,
   "metadata": {},
   "outputs": [
    {
     "name": "stdout",
     "output_type": "stream",
     "text": [
      "Time elapsed: 0:00:05\n"
     ]
    }
   ],
   "source": [
    "train(num_iterations=99)  # We already performed 1 iteration above."
   ]
  },
  {
   "cell_type": "code",
   "execution_count": 26,
   "metadata": {},
   "outputs": [
    {
     "name": "stdout",
     "output_type": "stream",
     "text": [
      "Accuracy on Test-Set: 6.4% (1002 / 15640)\n",
      "Example errors:\n"
     ]
    },
    {
     "data": {
      "image/png": "[encoded data removed]",
      "text/plain": [
       "<Figure size 432x288 with 9 Axes>"
      ]
     },
     "metadata": {},
     "output_type": "display_data"
    }
   ],
   "source": [
    "print_validation_accuracy(show_example_errors=True)"
   ]
  },
  {
   "cell_type": "code",
   "execution_count": 27,
   "metadata": {},
   "outputs": [
    {
     "name": "stdout",
     "output_type": "stream",
     "text": [
      "Time elapsed: 0:00:45\n"
     ]
    }
   ],
   "source": [
    "train(num_iterations=900)  # We performed 100 iterations above."
   ]
  },
  {
   "cell_type": "code",
   "execution_count": 28,
   "metadata": {},
   "outputs": [
    {
     "name": "stdout",
     "output_type": "stream",
     "text": [
      "Accuracy on Test-Set: 69.8% (10919 / 15640)\n",
      "Example errors:\n"
     ]
    },
    {
     "data": {
      "image/png": "[encoded data removed]",
      "text/plain": [
       "<Figure size 432x288 with 9 Axes>"
      ]
     },
     "metadata": {},
     "output_type": "display_data"
    }
   ],
   "source": [
    "print_validation_accuracy(show_example_errors=True)"
   ]
  },
  {
   "cell_type": "code",
   "execution_count": 29,
   "metadata": {},
   "outputs": [
    {
     "name": "stdout",
     "output_type": "stream",
     "text": [
      "Training Epoch 2 --> Training Accuracy:  68.8%, Validation Accuracy:  84.4%,  Validation Loss: 0.690\n",
      "Training Epoch 3 --> Training Accuracy:  81.2%, Validation Accuracy:  87.5%,  Validation Loss: 0.635\n",
      "Training Epoch 4 --> Training Accuracy:  87.5%, Validation Accuracy:  90.6%,  Validation Loss: 0.246\n",
      "Training Epoch 5 --> Training Accuracy:  84.4%, Validation Accuracy:  87.5%,  Validation Loss: 0.203\n",
      "Training Epoch 6 --> Training Accuracy:  90.6%, Validation Accuracy:  93.8%,  Validation Loss: 0.185\n",
      "Time elapsed: 0:08:07\n"
     ]
    }
   ],
   "source": [
    "train(num_iterations=9000) # We performed 1000 iterations above."
   ]
  },
  {
   "cell_type": "code",
   "execution_count": 30,
   "metadata": {},
   "outputs": [
    {
     "name": "stdout",
     "output_type": "stream",
     "text": [
      "Accuracy on Test-Set: 92.7% (14497 / 15640)\n",
      "Example errors:\n"
     ]
    },
    {
     "data": {
      "image/png": "[encoded data removed]",
      "text/plain": [
       "<Figure size 432x288 with 9 Axes>"
      ]
     },
     "metadata": {},
     "output_type": "display_data"
    },
    {
     "name": "stdout",
     "output_type": "stream",
     "text": [
      "Confusion Matrix:\n",
      "[[319   0   0 ...   0   0   0]\n",
      " [  0 359   0 ...   0   0   0]\n",
      " [  0  10 329 ...   1   0   0]\n",
      " ...\n",
      " [  0   0   2 ... 341   0   0]\n",
      " [  0  39   0 ...   0 299   0]\n",
      " [  0   0   1 ...   2   0 301]]\n"
     ]
    },
    {
     "data": {
      "image/png": "[encoded data removed]",
      "text/plain": [
       "<Figure size 288x288 with 2 Axes>"
      ]
     },
     "metadata": {},
     "output_type": "display_data"
    }
   ],
   "source": [
    "print_validation_accuracy(show_example_errors=True, show_confusion_matrix=True)"
   ]
  },
  {
   "cell_type": "markdown",
   "metadata": {},
   "source": [
    "# 5. Prediction"
   ]
  },
  {
   "cell_type": "code",
   "execution_count": 31,
   "metadata": {},
   "outputs": [],
   "source": [
    "def sample_prediction(test_file_name):\n",
    "    for i in classes:\n",
    "        test_imgfile = os.path.join(test_path, i, test_file_name)\n",
    "        if os.path.isfile(test_imgfile):\n",
    "            test_im = cv2.imread(test_imgfile)\n",
    "    \n",
    "            feed_dict_test = {\n",
    "                x: test_im.reshape(1, img_size, img_size, num_channels),\n",
    "                #y_true: np.array(data.valid.cls)\n",
    "            }\n",
    "        \n",
    "            test_pred = session.run(y_pred, feed_dict_test)\n",
    "            \n",
    "    return classes[test_pred.argmax()]"
   ]
  },
  {
   "cell_type": "code",
   "execution_count": 32,
   "metadata": {},
   "outputs": [
    {
     "name": "stdout",
     "output_type": "stream",
     "text": [
      "Predicted class for test_ka: character_1_ka\n",
      "Predicted class for test_tha: character_26_yaw\n"
     ]
    }
   ],
   "source": [
    "test1 = '1416.png'\n",
    "test2 = '1047.png'\n",
    "print(\"Predicted class for test_ka: {}\".format(sample_prediction(test1)))\n",
    "print(\"Predicted class for test_tha: {}\".format(sample_prediction(test2)))"
   ]
  },
  {
   "cell_type": "code",
   "execution_count": 33,
   "metadata": {},
   "outputs": [],
   "source": [
    "#Test on Sample Image\n",
    "def preview_test_img(test_file_name):\n",
    "    for i in classes:\n",
    "        test_imgfile = os.path.join(test_path, i, test_file_name)\n",
    "        if os.path.isfile(test_imgfile):\n",
    "            print(test_imgfile)\n",
    "            test_im = cv2.imread(test_imgfile)\n",
    "            test_im = cv2.resize(test_im, (img_size, img_size), cv2.INTER_LINEAR) / 255\n",
    "            preview_1 = plt.imshow(test_im.reshape(img_size, img_size, num_channels))"
   ]
  },
  {
   "cell_type": "code",
   "execution_count": 34,
   "metadata": {},
   "outputs": [
    {
     "name": "stdout",
     "output_type": "stream",
     "text": [
      "DevanagariHandwrittenCharacterDataset/DevanagariHandwrittenCharacterDataset/Test/character_1_ka/1416.png\n"
     ]
    },
    {
     "data": {
      "image/png": "[encoded data removed]",
      "text/plain": [
       "<Figure size 432x288 with 1 Axes>"
      ]
     },
     "metadata": {},
     "output_type": "display_data"
    }
   ],
   "source": [
    "plt.axis('off')\n",
    "preview_test_img(test1)"
   ]
  },
  {
   "cell_type": "code",
   "execution_count": 35,
   "metadata": {},
   "outputs": [
    {
     "name": "stdout",
     "output_type": "stream",
     "text": [
      "DevanagariHandwrittenCharacterDataset/DevanagariHandwrittenCharacterDataset/Test/character_17_tha/1047.png\n"
     ]
    },
    {
     "data": {
      "image/png": "[encoded data removed]",
      "text/plain": [
       "<Figure size 432x288 with 1 Axes>"
      ]
     },
     "metadata": {},
     "output_type": "display_data"
    }
   ],
   "source": [
    "preview_test_img(test2)"
   ]
  },
  {
   "cell_type": "markdown",
   "metadata": {},
   "source": [
    "### Visualization of Weights and Layers"
   ]
  },
  {
   "cell_type": "code",
   "execution_count": 36,
   "metadata": {},
   "outputs": [],
   "source": [
    "#In trying to understand why the convolutional neural network can recognize images, we will now visualize the \n",
    "#weights of the convolutional filters and the resulting output images.\n",
    "\n",
    "#Helper-function for plotting convolutional weights\n",
    "\n",
    "def plot_conv_weights(weights, input_channel=0):\n",
    "    w = session.run(weights)\n",
    "    w_min = np.min(w)\n",
    "    w_max = np.max(w)\n",
    "\n",
    "    num_filters = w.shape[3]\n",
    "\n",
    "    num_grids = math.ceil(math.sqrt(num_filters))\n",
    "    \n",
    "    fig, axes = plt.subplots(num_grids, num_grids)\n",
    "\n",
    "    for i, ax in enumerate(axes.flat):\n",
    "        if i<num_filters:\n",
    "            \n",
    "            img = w[:, :, input_channel, i]\n",
    "\n",
    "            # Plot image.\n",
    "            ax.imshow(img, vmin=w_min, vmax=w_max,\n",
    "                      interpolation='nearest', cmap='seismic')\n",
    "        \n",
    "        # Remove ticks from the plot.\n",
    "        ax.set_xticks([])\n",
    "        ax.set_yticks([])\n",
    "    \n",
    "    plt.show()"
   ]
  },
  {
   "cell_type": "code",
   "execution_count": 37,
   "metadata": {},
   "outputs": [],
   "source": [
    "#Helper-function for plotting the output of a convolutional layer\n",
    "def plot_conv_layer(layer, image):\n",
    "    \n",
    "    feed_dict = {x: [image]}\n",
    "    values = session.run(layer, feed_dict=feed_dict)\n",
    "    num_filters = values.shape[3]\n",
    "    num_grids = math.ceil(math.sqrt(num_filters))\n",
    "    \n",
    "    # Create figure with a grid of sub-plots.\n",
    "    fig, axes = plt.subplots(num_grids, num_grids)\n",
    "\n",
    "    # Plot the output images of all the filters.\n",
    "    for i, ax in enumerate(axes.flat):\n",
    "        # Only plot the images for valid filters.\n",
    "        if i<num_filters:\n",
    "            \n",
    "            img = values[0, :, :, i]\n",
    "\n",
    "            # Plot image.\n",
    "            ax.imshow(img, interpolation='nearest', cmap='binary')\n",
    "        \n",
    "        # Remove ticks from the plot.\n",
    "        ax.set_xticks([])\n",
    "        ax.set_yticks([])\n",
    "    \n",
    "    plt.show()"
   ]
  },
  {
   "cell_type": "code",
   "execution_count": 38,
   "metadata": {},
   "outputs": [],
   "source": [
    "#Helper-function for plotting an image.\n",
    "def plot_image(image):\n",
    "    plt.imshow(image.reshape(img_size, img_size, num_channels),\n",
    "               interpolation='nearest')\n",
    "    plt.show()"
   ]
  },
  {
   "cell_type": "code",
   "execution_count": 39,
   "metadata": {},
   "outputs": [
    {
     "data": {
      "image/png": "[encoded data removed]",
      "text/plain": [
       "<Figure size 432x288 with 1 Axes>"
      ]
     },
     "metadata": {},
     "output_type": "display_data"
    }
   ],
   "source": [
    "#Plot an image from the test-set which will be used as an example below.\n",
    "image1 = test_images[0]\n",
    "plot_image(image1)"
   ]
  },
  {
   "cell_type": "code",
   "execution_count": 40,
   "metadata": {},
   "outputs": [
    {
     "data": {
      "image/png": "[encoded data removed]",
      "text/plain": [
       "<Figure size 432x288 with 1 Axes>"
      ]
     },
     "metadata": {},
     "output_type": "display_data"
    }
   ],
   "source": [
    "#Plot another example image from the test-set.\n",
    "image2 = test_images[13]\n",
    "plot_image(image2)"
   ]
  },
  {
   "cell_type": "code",
   "execution_count": 41,
   "metadata": {},
   "outputs": [
    {
     "data": {
      "image/png": "[encoded data removed]",
      "text/plain": [
       "<Figure size 432x288 with 36 Axes>"
      ]
     },
     "metadata": {},
     "output_type": "display_data"
    }
   ],
   "source": [
    "#Convolution Layer 1 Plot\n",
    "plot_conv_weights(weights=weights_conv1)  #Note that positive weights are red and negative weights are blue."
   ]
  },
  {
   "cell_type": "code",
   "execution_count": 42,
   "metadata": {},
   "outputs": [
    {
     "data": {
      "image/png": "[encoded data removed]",
      "text/plain": [
       "<Figure size 432x288 with 36 Axes>"
      ]
     },
     "metadata": {},
     "output_type": "display_data"
    }
   ],
   "source": [
    "plot_conv_layer(layer=layer_conv1, image=image1)"
   ]
  },
  {
   "cell_type": "code",
   "execution_count": 43,
   "metadata": {},
   "outputs": [
    {
     "data": {
      "image/png": "[encoded data removed]",
      "text/plain": [
       "<Figure size 432x288 with 36 Axes>"
      ]
     },
     "metadata": {},
     "output_type": "display_data"
    }
   ],
   "source": [
    "plot_conv_layer(layer=layer_conv1, image=image2)"
   ]
  },
  {
   "cell_type": "code",
   "execution_count": 44,
   "metadata": {},
   "outputs": [
    {
     "data": {
      "image/png": "[encoded data removed]",
      "text/plain": [
       "<Figure size 432x288 with 36 Axes>"
      ]
     },
     "metadata": {},
     "output_type": "display_data"
    }
   ],
   "source": [
    "#Convolution Layer 2 Plot\n",
    "plot_conv_weights(weights=weights_conv2, input_channel=0)"
   ]
  },
  {
   "cell_type": "code",
   "execution_count": 45,
   "metadata": {},
   "outputs": [
    {
     "data": {
      "image/png": "[encoded data removed]",
      "text/plain": [
       "<Figure size 432x288 with 36 Axes>"
      ]
     },
     "metadata": {},
     "output_type": "display_data"
    }
   ],
   "source": [
    "plot_conv_weights(weights=weights_conv2, input_channel=1)"
   ]
  },
  {
   "cell_type": "code",
   "execution_count": 46,
   "metadata": {},
   "outputs": [
    {
     "data": {
      "image/png": "[encoded data removed]",
      "text/plain": [
       "<Figure size 432x288 with 36 Axes>"
      ]
     },
     "metadata": {},
     "output_type": "display_data"
    }
   ],
   "source": [
    "plot_conv_layer(layer=layer_conv2, image=image1)"
   ]
  },
  {
   "cell_type": "code",
   "execution_count": 47,
   "metadata": {},
   "outputs": [
    {
     "data": {
      "image/png": "[encoded data removed]",
      "text/plain": [
       "<Figure size 432x288 with 36 Axes>"
      ]
     },
     "metadata": {},
     "output_type": "display_data"
    }
   ],
   "source": [
    "plot_conv_layer(layer=layer_conv2, image=image2)"
   ]
  },
  {
   "cell_type": "markdown",
   "metadata": {},
   "source": [
    "## Write Test Predictions to CSV"
   ]
  },
  {
   "cell_type": "code",
   "execution_count": 48,
   "metadata": {},
   "outputs": [],
   "source": [
    "def write_predictions(ims, ids):\n",
    "     preds = session.run(y_pred, feed_dict={x: ims})\n",
    "     result = pd.DataFrame(preds, columns=classes)\n",
    "     result.loc[:, 'id'] = pd.Series(ids, index=result.index)\n",
    "     pred_file = 'predictions.csv'\n",
    "     result.to_csv(pred_file, index=False)\n",
    "\n",
    "write_predictions(test_images, test_ids)"
   ]
  },
  {
   "cell_type": "code",
   "execution_count": 49,
   "metadata": {},
   "outputs": [],
   "source": [
    "session.close() #Closing the session to release its resources."
   ]
  }
 ],
 "metadata": {
  "kernelspec": {
   "display_name": "Python 3",
   "language": "python",
   "name": "python3"
  },
  "language_info": {
   "codemirror_mode": {
    "name": "ipython",
    "version": 3
   },
   "file_extension": ".py",
   "mimetype": "text/x-python",
   "name": "python",
   "nbconvert_exporter": "python",
   "pygments_lexer": "ipython3",
   "version": "3.6.5"
  }
 },
 "nbformat": 4,
 "nbformat_minor": 2
}
